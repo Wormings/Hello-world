{
 "cells": [
  {
   "cell_type": "markdown",
   "metadata": {},
   "source": [
    "# Part-4 Basic Data Manegement"
   ]
  },
  {
   "cell_type": "markdown",
   "metadata": {},
   "source": [
    "# 4.1 An example"
   ]
  },
  {
   "cell_type": "code",
   "execution_count": 14,
   "metadata": {},
   "outputs": [
    {
     "data": {
      "text/html": [
       "<table>\n",
       "<thead><tr><th scope=col>manager</th><th scope=col>date</th><th scope=col>country</th><th scope=col>gender</th><th scope=col>age</th><th scope=col>q1</th><th scope=col>q2</th><th scope=col>q3</th><th scope=col>q4</th><th scope=col>q5</th></tr></thead>\n",
       "<tbody>\n",
       "\t<tr><td>1       </td><td>10/24/08</td><td>US      </td><td>M       </td><td>32      </td><td>5       </td><td>4       </td><td>5       </td><td> 5      </td><td> 5      </td></tr>\n",
       "\t<tr><td>2       </td><td>10/28/08</td><td>US      </td><td>F       </td><td>45      </td><td>3       </td><td>5       </td><td>2       </td><td> 5      </td><td> 5      </td></tr>\n",
       "\t<tr><td>3       </td><td>10/1/08 </td><td>UK      </td><td>F       </td><td>25      </td><td>3       </td><td>5       </td><td>5       </td><td> 5      </td><td> 2      </td></tr>\n",
       "\t<tr><td>4       </td><td>10/12/08</td><td>UK      </td><td>M       </td><td>39      </td><td>3       </td><td>3       </td><td>4       </td><td>NA      </td><td>NA      </td></tr>\n",
       "\t<tr><td>5       </td><td>5/1/09  </td><td>UK      </td><td>F       </td><td>99      </td><td>2       </td><td>2       </td><td>1       </td><td> 2      </td><td> 1      </td></tr>\n",
       "</tbody>\n",
       "</table>\n"
      ],
      "text/latex": [
       "\\begin{tabular}{r|llllllllll}\n",
       " manager & date & country & gender & age & q1 & q2 & q3 & q4 & q5\\\\\n",
       "\\hline\n",
       "\t 1        & 10/24/08 & US       & M        & 32       & 5        & 4        & 5        &  5       &  5      \\\\\n",
       "\t 2        & 10/28/08 & US       & F        & 45       & 3        & 5        & 2        &  5       &  5      \\\\\n",
       "\t 3        & 10/1/08  & UK       & F        & 25       & 3        & 5        & 5        &  5       &  2      \\\\\n",
       "\t 4        & 10/12/08 & UK       & M        & 39       & 3        & 3        & 4        & NA       & NA      \\\\\n",
       "\t 5        & 5/1/09   & UK       & F        & 99       & 2        & 2        & 1        &  2       &  1      \\\\\n",
       "\\end{tabular}\n"
      ],
      "text/markdown": [
       "\n",
       "manager | date | country | gender | age | q1 | q2 | q3 | q4 | q5 | \n",
       "|---|---|---|---|---|\n",
       "| 1        | 10/24/08 | US       | M        | 32       | 5        | 4        | 5        |  5       |  5       | \n",
       "| 2        | 10/28/08 | US       | F        | 45       | 3        | 5        | 2        |  5       |  5       | \n",
       "| 3        | 10/1/08  | UK       | F        | 25       | 3        | 5        | 5        |  5       |  2       | \n",
       "| 4        | 10/12/08 | UK       | M        | 39       | 3        | 3        | 4        | NA       | NA       | \n",
       "| 5        | 5/1/09   | UK       | F        | 99       | 2        | 2        | 1        |  2       |  1       | \n",
       "\n",
       "\n"
      ],
      "text/plain": [
       "  manager date     country gender age q1 q2 q3 q4 q5\n",
       "1 1       10/24/08 US      M      32  5  4  5   5  5\n",
       "2 2       10/28/08 US      F      45  3  5  2   5  5\n",
       "3 3       10/1/08  UK      F      25  3  5  5   5  2\n",
       "4 4       10/12/08 UK      M      39  3  3  4  NA NA\n",
       "5 5       5/1/09   UK      F      99  2  2  1   2  1"
      ]
     },
     "metadata": {},
     "output_type": "display_data"
    }
   ],
   "source": [
    "# create a dataframe\n",
    "manager <- c(1,2,3,4,5)\n",
    "date <- c('10/24/08','10/28/08','10/1/08','10/12/08','5/1/09')\n",
    "country <- c('US','US','UK','UK','UK')\n",
    "gender <- c('M','F','F','M','F')\n",
    "age <- c(32,45,25,39,99)\n",
    "q1 <- c(5,3,3,3,2)\n",
    "q2 <- c(4,5,5,3,2)\n",
    "q3 <- c(5,2,5,4,1)\n",
    "q4 <- c(5,5,5,NA,2)\n",
    "q5 <- c(5,5,2,NA,1)\n",
    "leadership <- data.frame(manager, date, country, gender, age,\n",
    "                        q1,q2,q3,q4,q5, stringsAsFactors=F)\n",
    "leadership"
   ]
  },
  {
   "cell_type": "code",
   "execution_count": 4,
   "metadata": {
    "collapsed": true
   },
   "outputs": [],
   "source": [
    "# operators:\n",
    "# a %% b equals a mod b\n",
    "# a %/% b equals a // b (in python)"
   ]
  },
  {
   "cell_type": "markdown",
   "metadata": {},
   "source": [
    "## 4.1.1 Create new variables"
   ]
  },
  {
   "cell_type": "code",
   "execution_count": 36,
   "metadata": {
    "collapsed": true
   },
   "outputs": [],
   "source": [
    "mydata <- data.frame(x1=c(2,2,6,4),x2=c(3,4,2,8))"
   ]
  },
  {
   "cell_type": "code",
   "execution_count": 37,
   "metadata": {
    "collapsed": true
   },
   "outputs": [],
   "source": [
    "# method one\n",
    "mydata$sumx1 <- mydata$x1 + mydata$x2\n",
    "mydata$meanx1 <- (mydata$x1 + mydata$x2)/2"
   ]
  },
  {
   "cell_type": "code",
   "execution_count": 38,
   "metadata": {
    "collapsed": true
   },
   "outputs": [],
   "source": [
    "# method two\n",
    "with(mydata, {\n",
    "    mydata$sumx2 <<- x1 + x2\n",
    "    mydata$meanx2 <<- (x1 + x2)/2\n",
    "})"
   ]
  },
  {
   "cell_type": "code",
   "execution_count": 40,
   "metadata": {},
   "outputs": [
    {
     "data": {
      "text/html": [
       "<table>\n",
       "<thead><tr><th scope=col>x1</th><th scope=col>x2</th><th scope=col>sumx1</th><th scope=col>meanx1</th><th scope=col>sumx2</th><th scope=col>meanx2</th><th scope=col>sumx3</th><th scope=col>meanx3</th></tr></thead>\n",
       "<tbody>\n",
       "\t<tr><td>2  </td><td>3  </td><td> 5 </td><td>2.5</td><td> 5 </td><td>2.5</td><td> 5 </td><td>2.5</td></tr>\n",
       "\t<tr><td>2  </td><td>4  </td><td> 6 </td><td>3.0</td><td> 6 </td><td>3.0</td><td> 6 </td><td>3.0</td></tr>\n",
       "\t<tr><td>6  </td><td>2  </td><td> 8 </td><td>4.0</td><td> 8 </td><td>4.0</td><td> 8 </td><td>4.0</td></tr>\n",
       "\t<tr><td>4  </td><td>8  </td><td>12 </td><td>6.0</td><td>12 </td><td>6.0</td><td>12 </td><td>6.0</td></tr>\n",
       "</tbody>\n",
       "</table>\n"
      ],
      "text/latex": [
       "\\begin{tabular}{r|llllllll}\n",
       " x1 & x2 & sumx1 & meanx1 & sumx2 & meanx2 & sumx3 & meanx3\\\\\n",
       "\\hline\n",
       "\t 2   & 3   &  5  & 2.5 &  5  & 2.5 &  5  & 2.5\\\\\n",
       "\t 2   & 4   &  6  & 3.0 &  6  & 3.0 &  6  & 3.0\\\\\n",
       "\t 6   & 2   &  8  & 4.0 &  8  & 4.0 &  8  & 4.0\\\\\n",
       "\t 4   & 8   & 12  & 6.0 & 12  & 6.0 & 12  & 6.0\\\\\n",
       "\\end{tabular}\n"
      ],
      "text/markdown": [
       "\n",
       "x1 | x2 | sumx1 | meanx1 | sumx2 | meanx2 | sumx3 | meanx3 | \n",
       "|---|---|---|---|\n",
       "| 2   | 3   |  5  | 2.5 |  5  | 2.5 |  5  | 2.5 | \n",
       "| 2   | 4   |  6  | 3.0 |  6  | 3.0 |  6  | 3.0 | \n",
       "| 6   | 2   |  8  | 4.0 |  8  | 4.0 |  8  | 4.0 | \n",
       "| 4   | 8   | 12  | 6.0 | 12  | 6.0 | 12  | 6.0 | \n",
       "\n",
       "\n"
      ],
      "text/plain": [
       "  x1 x2 sumx1 meanx1 sumx2 meanx2 sumx3 meanx3\n",
       "1 2  3   5    2.5     5    2.5     5    2.5   \n",
       "2 2  4   6    3.0     6    3.0     6    3.0   \n",
       "3 6  2   8    4.0     8    4.0     8    4.0   \n",
       "4 4  8  12    6.0    12    6.0    12    6.0   "
      ]
     },
     "metadata": {},
     "output_type": "display_data"
    }
   ],
   "source": [
    "# method three\n",
    "mydata <- transform(mydata,\n",
    "                   sumx3 = x1 + x2,\n",
    "                   meanx3 = (x1 + x2)/2)   # pay attention to =\n",
    "mydata"
   ]
  },
  {
   "cell_type": "markdown",
   "metadata": {},
   "source": [
    "## 4.1.2 Re-code variables"
   ]
  },
  {
   "cell_type": "code",
   "execution_count": 59,
   "metadata": {},
   "outputs": [
    {
     "data": {
      "text/html": [
       "<table>\n",
       "<thead><tr><th scope=col>manager</th><th scope=col>date</th><th scope=col>country</th><th scope=col>gender</th><th scope=col>age</th><th scope=col>q1</th><th scope=col>q2</th><th scope=col>q3</th><th scope=col>q4</th><th scope=col>q5</th><th scope=col>agecat</th></tr></thead>\n",
       "<tbody>\n",
       "\t<tr><td>1       </td><td>10/24/08</td><td>US      </td><td>M       </td><td>32      </td><td>5       </td><td>4       </td><td>5       </td><td> 5      </td><td> 5      </td><td>Young   </td></tr>\n",
       "\t<tr><td>2       </td><td>10/28/08</td><td>US      </td><td>F       </td><td>45      </td><td>3       </td><td>5       </td><td>2       </td><td> 5      </td><td> 5      </td><td>Young   </td></tr>\n",
       "\t<tr><td>3       </td><td>10/1/08 </td><td>UK      </td><td>F       </td><td>25      </td><td>3       </td><td>5       </td><td>5       </td><td> 5      </td><td> 2      </td><td>Young   </td></tr>\n",
       "\t<tr><td>4       </td><td>10/12/08</td><td>UK      </td><td>M       </td><td>39      </td><td>3       </td><td>3       </td><td>4       </td><td>NA      </td><td>NA      </td><td>Young   </td></tr>\n",
       "\t<tr><td>5       </td><td>5/1/09  </td><td>UK      </td><td>F       </td><td>NA      </td><td>2       </td><td>2       </td><td>1       </td><td> 2      </td><td> 1      </td><td>NA      </td></tr>\n",
       "</tbody>\n",
       "</table>\n"
      ],
      "text/latex": [
       "\\begin{tabular}{r|lllllllllll}\n",
       " manager & date & country & gender & age & q1 & q2 & q3 & q4 & q5 & agecat\\\\\n",
       "\\hline\n",
       "\t 1        & 10/24/08 & US       & M        & 32       & 5        & 4        & 5        &  5       &  5       & Young   \\\\\n",
       "\t 2        & 10/28/08 & US       & F        & 45       & 3        & 5        & 2        &  5       &  5       & Young   \\\\\n",
       "\t 3        & 10/1/08  & UK       & F        & 25       & 3        & 5        & 5        &  5       &  2       & Young   \\\\\n",
       "\t 4        & 10/12/08 & UK       & M        & 39       & 3        & 3        & 4        & NA       & NA       & Young   \\\\\n",
       "\t 5        & 5/1/09   & UK       & F        & NA       & 2        & 2        & 1        &  2       &  1       & NA      \\\\\n",
       "\\end{tabular}\n"
      ],
      "text/markdown": [
       "\n",
       "manager | date | country | gender | age | q1 | q2 | q3 | q4 | q5 | agecat | \n",
       "|---|---|---|---|---|\n",
       "| 1        | 10/24/08 | US       | M        | 32       | 5        | 4        | 5        |  5       |  5       | Young    | \n",
       "| 2        | 10/28/08 | US       | F        | 45       | 3        | 5        | 2        |  5       |  5       | Young    | \n",
       "| 3        | 10/1/08  | UK       | F        | 25       | 3        | 5        | 5        |  5       |  2       | Young    | \n",
       "| 4        | 10/12/08 | UK       | M        | 39       | 3        | 3        | 4        | NA       | NA       | Young    | \n",
       "| 5        | 5/1/09   | UK       | F        | NA       | 2        | 2        | 1        |  2       |  1       | NA       | \n",
       "\n",
       "\n"
      ],
      "text/plain": [
       "  manager date     country gender age q1 q2 q3 q4 q5 agecat\n",
       "1 1       10/24/08 US      M      32  5  4  5   5  5 Young \n",
       "2 2       10/28/08 US      F      45  3  5  2   5  5 Young \n",
       "3 3       10/1/08  UK      F      25  3  5  5   5  2 Young \n",
       "4 4       10/12/08 UK      M      39  3  3  4  NA NA Young \n",
       "5 5       5/1/09   UK      F      NA  2  2  1   2  1 NA    "
      ]
     },
     "metadata": {},
     "output_type": "display_data"
    }
   ],
   "source": [
    "# follow the example of 4.1\n",
    "leadership$age[leadership$age == 99] <- NA\n",
    "\n",
    "leadership$agecat[leadership$age > 75] <- 'Elder'\n",
    "leadership$agecat[leadership$age >= 55 &\n",
    "                 leadership$age <= 75] <- 'Middle Aged'\n",
    "leadership$agecat[leadership$age < 55] <- 'Young'\n",
    "leadership"
   ]
  },
  {
   "cell_type": "code",
   "execution_count": 61,
   "metadata": {},
   "outputs": [
    {
     "data": {
      "text/html": [
       "<table>\n",
       "<thead><tr><th scope=col>manager</th><th scope=col>date</th><th scope=col>country</th><th scope=col>gender</th><th scope=col>age</th><th scope=col>q1</th><th scope=col>q2</th><th scope=col>q3</th><th scope=col>q4</th><th scope=col>q5</th><th scope=col>agecat</th></tr></thead>\n",
       "<tbody>\n",
       "\t<tr><td>1       </td><td>10/24/08</td><td>US      </td><td>M       </td><td>32      </td><td>5       </td><td>4       </td><td>5       </td><td> 5      </td><td> 5      </td><td>Young   </td></tr>\n",
       "\t<tr><td>2       </td><td>10/28/08</td><td>US      </td><td>F       </td><td>45      </td><td>3       </td><td>5       </td><td>2       </td><td> 5      </td><td> 5      </td><td>Young   </td></tr>\n",
       "\t<tr><td>3       </td><td>10/1/08 </td><td>UK      </td><td>F       </td><td>25      </td><td>3       </td><td>5       </td><td>5       </td><td> 5      </td><td> 2      </td><td>Young   </td></tr>\n",
       "\t<tr><td>4       </td><td>10/12/08</td><td>UK      </td><td>M       </td><td>39      </td><td>3       </td><td>3       </td><td>4       </td><td>NA      </td><td>NA      </td><td>Young   </td></tr>\n",
       "\t<tr><td>5       </td><td>5/1/09  </td><td>UK      </td><td>F       </td><td>NA      </td><td>2       </td><td>2       </td><td>1       </td><td> 2      </td><td> 1      </td><td>NA      </td></tr>\n",
       "</tbody>\n",
       "</table>\n"
      ],
      "text/latex": [
       "\\begin{tabular}{r|lllllllllll}\n",
       " manager & date & country & gender & age & q1 & q2 & q3 & q4 & q5 & agecat\\\\\n",
       "\\hline\n",
       "\t 1        & 10/24/08 & US       & M        & 32       & 5        & 4        & 5        &  5       &  5       & Young   \\\\\n",
       "\t 2        & 10/28/08 & US       & F        & 45       & 3        & 5        & 2        &  5       &  5       & Young   \\\\\n",
       "\t 3        & 10/1/08  & UK       & F        & 25       & 3        & 5        & 5        &  5       &  2       & Young   \\\\\n",
       "\t 4        & 10/12/08 & UK       & M        & 39       & 3        & 3        & 4        & NA       & NA       & Young   \\\\\n",
       "\t 5        & 5/1/09   & UK       & F        & NA       & 2        & 2        & 1        &  2       &  1       & NA      \\\\\n",
       "\\end{tabular}\n"
      ],
      "text/markdown": [
       "\n",
       "manager | date | country | gender | age | q1 | q2 | q3 | q4 | q5 | agecat | \n",
       "|---|---|---|---|---|\n",
       "| 1        | 10/24/08 | US       | M        | 32       | 5        | 4        | 5        |  5       |  5       | Young    | \n",
       "| 2        | 10/28/08 | US       | F        | 45       | 3        | 5        | 2        |  5       |  5       | Young    | \n",
       "| 3        | 10/1/08  | UK       | F        | 25       | 3        | 5        | 5        |  5       |  2       | Young    | \n",
       "| 4        | 10/12/08 | UK       | M        | 39       | 3        | 3        | 4        | NA       | NA       | Young    | \n",
       "| 5        | 5/1/09   | UK       | F        | NA       | 2        | 2        | 1        |  2       |  1       | NA       | \n",
       "\n",
       "\n"
      ],
      "text/plain": [
       "  manager date     country gender age q1 q2 q3 q4 q5 agecat\n",
       "1 1       10/24/08 US      M      32  5  4  5   5  5 Young \n",
       "2 2       10/28/08 US      F      45  3  5  2   5  5 Young \n",
       "3 3       10/1/08  UK      F      25  3  5  5   5  2 Young \n",
       "4 4       10/12/08 UK      M      39  3  3  4  NA NA Young \n",
       "5 5       5/1/09   UK      F      NA  2  2  1   2  1 NA    "
      ]
     },
     "metadata": {},
     "output_type": "display_data"
    }
   ],
   "source": [
    "# you cam re-write the code in a simple way:\n",
    "leadership <- within(leadership, {\n",
    "    agecat <- NA\n",
    "    agecat[age > 75] <- 'Elder'\n",
    "    agecat[age >= 55 & age <= 75] <- 'Middle Aged'\n",
    "    agecat[age < 55] <- 'Young'\n",
    "})\n",
    "leadership"
   ]
  },
  {
   "cell_type": "markdown",
   "metadata": {},
   "source": [
    "### notice that within() enables you to modify data in dataframe while with() can not"
   ]
  },
  {
   "cell_type": "code",
   "execution_count": 49,
   "metadata": {
    "collapsed": true
   },
   "outputs": [],
   "source": [
    "# more methods please refer to car$recode() & doBy$recodevar()"
   ]
  },
  {
   "cell_type": "markdown",
   "metadata": {},
   "source": [
    "## 4.1.3 Re-name variables"
   ]
  },
  {
   "cell_type": "code",
   "execution_count": 50,
   "metadata": {
    "collapsed": true
   },
   "outputs": [],
   "source": [
    "# a simple way in IDE is function fix()\n",
    "\n",
    "# and also other coding methods like reshape$rename()"
   ]
  },
  {
   "cell_type": "markdown",
   "metadata": {},
   "source": [
    "## 4.1.4 Missing values"
   ]
  },
  {
   "cell_type": "code",
   "execution_count": 51,
   "metadata": {},
   "outputs": [
    {
     "data": {
      "text/html": [
       "<ol class=list-inline>\n",
       "\t<li>FALSE</li>\n",
       "\t<li>FALSE</li>\n",
       "\t<li>FALSE</li>\n",
       "\t<li>TRUE</li>\n",
       "</ol>\n"
      ],
      "text/latex": [
       "\\begin{enumerate*}\n",
       "\\item FALSE\n",
       "\\item FALSE\n",
       "\\item FALSE\n",
       "\\item TRUE\n",
       "\\end{enumerate*}\n"
      ],
      "text/markdown": [
       "1. FALSE\n",
       "2. FALSE\n",
       "3. FALSE\n",
       "4. TRUE\n",
       "\n",
       "\n"
      ],
      "text/plain": [
       "[1] FALSE FALSE FALSE  TRUE"
      ]
     },
     "metadata": {},
     "output_type": "display_data"
    }
   ],
   "source": [
    "# NA:  Not Available\n",
    "# NaN: Not a Number\n",
    "\n",
    "y <- c(1,2,3,NA)\n",
    "is.na(y)"
   ]
  },
  {
   "cell_type": "code",
   "execution_count": 52,
   "metadata": {},
   "outputs": [
    {
     "data": {
      "text/html": [
       "6"
      ],
      "text/latex": [
       "6"
      ],
      "text/markdown": [
       "6"
      ],
      "text/plain": [
       "[1] 6"
      ]
     },
     "metadata": {},
     "output_type": "display_data"
    }
   ],
   "source": [
    "# functions like sum() has a parameter to handle missing values\n",
    "x <- c(1,2,NA,3)\n",
    "y <- sum(x, na.rm=T)\n",
    "y"
   ]
  },
  {
   "cell_type": "code",
   "execution_count": 62,
   "metadata": {},
   "outputs": [
    {
     "data": {
      "text/html": [
       "<table>\n",
       "<thead><tr><th scope=col>manager</th><th scope=col>date</th><th scope=col>country</th><th scope=col>gender</th><th scope=col>age</th><th scope=col>q1</th><th scope=col>q2</th><th scope=col>q3</th><th scope=col>q4</th><th scope=col>q5</th><th scope=col>agecat</th></tr></thead>\n",
       "<tbody>\n",
       "\t<tr><td>1       </td><td>10/24/08</td><td>US      </td><td>M       </td><td>32      </td><td>5       </td><td>4       </td><td>5       </td><td>5       </td><td>5       </td><td>Young   </td></tr>\n",
       "\t<tr><td>2       </td><td>10/28/08</td><td>US      </td><td>F       </td><td>45      </td><td>3       </td><td>5       </td><td>2       </td><td>5       </td><td>5       </td><td>Young   </td></tr>\n",
       "\t<tr><td>3       </td><td>10/1/08 </td><td>UK      </td><td>F       </td><td>25      </td><td>3       </td><td>5       </td><td>5       </td><td>5       </td><td>2       </td><td>Young   </td></tr>\n",
       "</tbody>\n",
       "</table>\n"
      ],
      "text/latex": [
       "\\begin{tabular}{r|lllllllllll}\n",
       " manager & date & country & gender & age & q1 & q2 & q3 & q4 & q5 & agecat\\\\\n",
       "\\hline\n",
       "\t 1        & 10/24/08 & US       & M        & 32       & 5        & 4        & 5        & 5        & 5        & Young   \\\\\n",
       "\t 2        & 10/28/08 & US       & F        & 45       & 3        & 5        & 2        & 5        & 5        & Young   \\\\\n",
       "\t 3        & 10/1/08  & UK       & F        & 25       & 3        & 5        & 5        & 5        & 2        & Young   \\\\\n",
       "\\end{tabular}\n"
      ],
      "text/markdown": [
       "\n",
       "manager | date | country | gender | age | q1 | q2 | q3 | q4 | q5 | agecat | \n",
       "|---|---|---|\n",
       "| 1        | 10/24/08 | US       | M        | 32       | 5        | 4        | 5        | 5        | 5        | Young    | \n",
       "| 2        | 10/28/08 | US       | F        | 45       | 3        | 5        | 2        | 5        | 5        | Young    | \n",
       "| 3        | 10/1/08  | UK       | F        | 25       | 3        | 5        | 5        | 5        | 2        | Young    | \n",
       "\n",
       "\n"
      ],
      "text/plain": [
       "  manager date     country gender age q1 q2 q3 q4 q5 agecat\n",
       "1 1       10/24/08 US      M      32  5  4  5  5  5  Young \n",
       "2 2       10/28/08 US      F      45  3  5  2  5  5  Young \n",
       "3 3       10/1/08  UK      F      25  3  5  5  5  2  Young "
      ]
     },
     "metadata": {},
     "output_type": "display_data"
    }
   ],
   "source": [
    "# function na.omit() can delete a row which lies missing values\n",
    "newdata <- na.omit(leadership)\n",
    "newdata"
   ]
  },
  {
   "cell_type": "markdown",
   "metadata": {},
   "source": [
    "## 4.1.5 Dates"
   ]
  },
  {
   "cell_type": "code",
   "execution_count": 1,
   "metadata": {
    "collapsed": true
   },
   "outputs": [],
   "source": [
    "# date is first imported as a string\n",
    "# then use function as.Date(x, 'import_format') to transfer\n",
    "# par: import_format:\n",
    "# %d: 01-30\n",
    "# %a: Mon\n",
    "# %A: Monday\n",
    "# %m: 01~12  (month)\n",
    "# %b: Jan\n",
    "# %B: January\n",
    "# %y: 17  (year)\n",
    "# %Y: 2017"
   ]
  },
  {
   "cell_type": "code",
   "execution_count": 2,
   "metadata": {},
   "outputs": [
    {
     "data": {
      "text/html": [
       "<ol class=list-inline>\n",
       "\t<li><time datetime=\"2007-06-22\">2007-06-22</time></li>\n",
       "\t<li><time datetime=\"2004-02-13\">2004-02-13</time></li>\n",
       "</ol>\n"
      ],
      "text/latex": [
       "\\begin{enumerate*}\n",
       "\\item 2007-06-22\n",
       "\\item 2004-02-13\n",
       "\\end{enumerate*}\n"
      ],
      "text/markdown": [
       "1. 2007-06-22\n",
       "2. 2004-02-13\n",
       "\n",
       "\n"
      ],
      "text/plain": [
       "[1] \"2007-06-22\" \"2004-02-13\""
      ]
     },
     "metadata": {},
     "output_type": "display_data"
    }
   ],
   "source": [
    "# default format\n",
    "mydates <- as.Date(c('2007-06-22','2004-02-13'))\n",
    "mydates"
   ]
  },
  {
   "cell_type": "code",
   "execution_count": 13,
   "metadata": {},
   "outputs": [
    {
     "data": {
      "text/html": [
       "<ol class=list-inline>\n",
       "\t<li><time datetime=\"NA\">NA</time></li>\n",
       "\t<li><time datetime=\"NA\">NA</time></li>\n",
       "</ol>\n"
      ],
      "text/latex": [
       "\\begin{enumerate*}\n",
       "\\item NA\n",
       "\\item NA\n",
       "\\end{enumerate*}\n"
      ],
      "text/markdown": [
       "1. NA\n",
       "2. NA\n",
       "\n",
       "\n"
      ],
      "text/plain": [
       "[1] NA NA"
      ]
     },
     "metadata": {},
     "output_type": "display_data"
    }
   ],
   "source": [
    "# example\n",
    "strDates <- c('01/05/1965','08/16/1975')\n",
    "dates <- as.Date(strDates, '%m/%d/&Y')\n",
    "dates"
   ]
  },
  {
   "cell_type": "code",
   "execution_count": 11,
   "metadata": {},
   "outputs": [
    {
     "data": {
      "text/html": [
       "<table>\n",
       "<thead><tr><th scope=col>manager</th><th scope=col>date</th><th scope=col>country</th><th scope=col>gender</th><th scope=col>age</th><th scope=col>q1</th><th scope=col>q2</th><th scope=col>q3</th><th scope=col>q4</th><th scope=col>q5</th></tr></thead>\n",
       "<tbody>\n",
       "\t<tr><td>1         </td><td>2008-10-24</td><td>US        </td><td>M         </td><td>32        </td><td>5         </td><td>4         </td><td>5         </td><td> 5        </td><td> 5        </td></tr>\n",
       "\t<tr><td>2         </td><td>2008-10-28</td><td>US        </td><td>F         </td><td>45        </td><td>3         </td><td>5         </td><td>2         </td><td> 5        </td><td> 5        </td></tr>\n",
       "\t<tr><td>3         </td><td>2008-10-01</td><td>UK        </td><td>F         </td><td>25        </td><td>3         </td><td>5         </td><td>5         </td><td> 5        </td><td> 2        </td></tr>\n",
       "\t<tr><td>4         </td><td>2008-10-12</td><td>UK        </td><td>M         </td><td>39        </td><td>3         </td><td>3         </td><td>4         </td><td>NA        </td><td>NA        </td></tr>\n",
       "\t<tr><td>5         </td><td>2009-05-01</td><td>UK        </td><td>F         </td><td>99        </td><td>2         </td><td>2         </td><td>1         </td><td> 2        </td><td> 1        </td></tr>\n",
       "</tbody>\n",
       "</table>\n"
      ],
      "text/latex": [
       "\\begin{tabular}{r|llllllllll}\n",
       " manager & date & country & gender & age & q1 & q2 & q3 & q4 & q5\\\\\n",
       "\\hline\n",
       "\t 1          & 2008-10-24 & US         & M          & 32         & 5          & 4          & 5          &  5         &  5        \\\\\n",
       "\t 2          & 2008-10-28 & US         & F          & 45         & 3          & 5          & 2          &  5         &  5        \\\\\n",
       "\t 3          & 2008-10-01 & UK         & F          & 25         & 3          & 5          & 5          &  5         &  2        \\\\\n",
       "\t 4          & 2008-10-12 & UK         & M          & 39         & 3          & 3          & 4          & NA         & NA        \\\\\n",
       "\t 5          & 2009-05-01 & UK         & F          & 99         & 2          & 2          & 1          &  2         &  1        \\\\\n",
       "\\end{tabular}\n"
      ],
      "text/markdown": [
       "\n",
       "manager | date | country | gender | age | q1 | q2 | q3 | q4 | q5 | \n",
       "|---|---|---|---|---|\n",
       "| 1          | 2008-10-24 | US         | M          | 32         | 5          | 4          | 5          |  5         |  5         | \n",
       "| 2          | 2008-10-28 | US         | F          | 45         | 3          | 5          | 2          |  5         |  5         | \n",
       "| 3          | 2008-10-01 | UK         | F          | 25         | 3          | 5          | 5          |  5         |  2         | \n",
       "| 4          | 2008-10-12 | UK         | M          | 39         | 3          | 3          | 4          | NA         | NA         | \n",
       "| 5          | 2009-05-01 | UK         | F          | 99         | 2          | 2          | 1          |  2         |  1         | \n",
       "\n",
       "\n"
      ],
      "text/plain": [
       "  manager date       country gender age q1 q2 q3 q4 q5\n",
       "1 1       2008-10-24 US      M      32  5  4  5   5  5\n",
       "2 2       2008-10-28 US      F      45  3  5  2   5  5\n",
       "3 3       2008-10-01 UK      F      25  3  5  5   5  2\n",
       "4 4       2008-10-12 UK      M      39  3  3  4  NA NA\n",
       "5 5       2009-05-01 UK      F      99  2  2  1   2  1"
      ]
     },
     "metadata": {},
     "output_type": "display_data"
    }
   ],
   "source": [
    "myformat <- '%m/%d/%y'\n",
    "leadership$date <- as.Date(leadership$date, myformat)\n",
    "leadership"
   ]
  },
  {
   "cell_type": "code",
   "execution_count": 17,
   "metadata": {},
   "outputs": [
    {
     "data": {
      "text/html": [
       "<time datetime=\"2017-09-13\">2017-09-13</time>"
      ],
      "text/latex": [
       "2017-09-13"
      ],
      "text/markdown": [
       "2017-09-13"
      ],
      "text/plain": [
       "[1] \"2017-09-13\""
      ]
     },
     "metadata": {},
     "output_type": "display_data"
    },
    {
     "data": {
      "text/html": [
       "'Wed Sep 13 19:09:57 2017'"
      ],
      "text/latex": [
       "'Wed Sep 13 19:09:57 2017'"
      ],
      "text/markdown": [
       "'Wed Sep 13 19:09:57 2017'"
      ],
      "text/plain": [
       "[1] \"Wed Sep 13 19:09:57 2017\""
      ]
     },
     "metadata": {},
     "output_type": "display_data"
    }
   ],
   "source": [
    "# get todays date\n",
    "Sys.Date()\n",
    "date()"
   ]
  },
  {
   "cell_type": "code",
   "execution_count": 20,
   "metadata": {},
   "outputs": [
    {
     "data": {
      "text/html": [
       "'九月 13 2017'"
      ],
      "text/latex": [
       "'九月 13 2017'"
      ],
      "text/markdown": [
       "'九月 13 2017'"
      ],
      "text/plain": [
       "[1] \"九月 13 2017\""
      ]
     },
     "metadata": {},
     "output_type": "display_data"
    },
    {
     "data": {
      "text/html": [
       "'星期三'"
      ],
      "text/latex": [
       "'星期三'"
      ],
      "text/markdown": [
       "'星期三'"
      ],
      "text/plain": [
       "[1] \"星期三\""
      ]
     },
     "metadata": {},
     "output_type": "display_data"
    }
   ],
   "source": [
    "# show todays date\n",
    "today <- Sys.Date()\n",
    "format(today, format='%B %d %Y')\n",
    "format(today, format='%A')"
   ]
  },
  {
   "cell_type": "markdown",
   "metadata": {},
   "source": [
    "### numerical dates can be calculated"
   ]
  },
  {
   "cell_type": "code",
   "execution_count": 21,
   "metadata": {},
   "outputs": [
    {
     "data": {
      "text/plain": [
       "Time difference of 2535 days"
      ]
     },
     "metadata": {},
     "output_type": "display_data"
    }
   ],
   "source": [
    "startdate <- as.Date('2004-02-13')\n",
    "enddate <- as.Date('2011-01-22')\n",
    "days <- enddate - startdate\n",
    "days"
   ]
  },
  {
   "cell_type": "code",
   "execution_count": 32,
   "metadata": {},
   "outputs": [
    {
     "data": {
      "text/plain": [
       "Time difference of 548 weeks"
      ]
     },
     "metadata": {},
     "output_type": "display_data"
    }
   ],
   "source": [
    "# also use function difftime()\n",
    "today <- Sys.Date()\n",
    "birth <- as.Date('2007-03-14')\n",
    "difftime(today, birth, unit='weeks')"
   ]
  },
  {
   "cell_type": "code",
   "execution_count": 33,
   "metadata": {
    "collapsed": true
   },
   "outputs": [],
   "source": [
    "# also you can use function as.character() \n",
    "# to transfer date into characters"
   ]
  },
  {
   "cell_type": "markdown",
   "metadata": {},
   "source": [
    "# 4.2 Class transformation"
   ]
  },
  {
   "cell_type": "code",
   "execution_count": 34,
   "metadata": {
    "collapsed": true
   },
   "outputs": [],
   "source": [
    "# for example, normally if you add a string to \n",
    "# a numerical vector, then it will transfer into \n",
    "# a characteristic one\n",
    "\n",
    "# judge               transfer\n",
    "# is.numeric()        as.numeric()\n",
    "# is character()      as.character()\n",
    "# is.vector()         as.vector()\n",
    "# is.matrix()         as.matrix()\n",
    "# is.data.frame()     as.data.frame()\n",
    "# is.factor()         as.factor()\n",
    "# is.logical()        as.logical()"
   ]
  },
  {
   "cell_type": "code",
   "execution_count": 36,
   "metadata": {},
   "outputs": [
    {
     "data": {
      "text/html": [
       "TRUE"
      ],
      "text/latex": [
       "TRUE"
      ],
      "text/markdown": [
       "TRUE"
      ],
      "text/plain": [
       "[1] TRUE"
      ]
     },
     "metadata": {},
     "output_type": "display_data"
    }
   ],
   "source": [
    "# for example\n",
    "a <- c(1,2,3)\n",
    "is.numeric(a)"
   ]
  },
  {
   "cell_type": "code",
   "execution_count": 38,
   "metadata": {},
   "outputs": [
    {
     "data": {
      "text/html": [
       "<ol class=list-inline>\n",
       "\t<li>'1'</li>\n",
       "\t<li>'2'</li>\n",
       "\t<li>'3'</li>\n",
       "</ol>\n"
      ],
      "text/latex": [
       "\\begin{enumerate*}\n",
       "\\item '1'\n",
       "\\item '2'\n",
       "\\item '3'\n",
       "\\end{enumerate*}\n"
      ],
      "text/markdown": [
       "1. '1'\n",
       "2. '2'\n",
       "3. '3'\n",
       "\n",
       "\n"
      ],
      "text/plain": [
       "[1] \"1\" \"2\" \"3\""
      ]
     },
     "metadata": {},
     "output_type": "display_data"
    },
    {
     "data": {
      "text/html": [
       "FALSE"
      ],
      "text/latex": [
       "FALSE"
      ],
      "text/markdown": [
       "FALSE"
      ],
      "text/plain": [
       "[1] FALSE"
      ]
     },
     "metadata": {},
     "output_type": "display_data"
    },
    {
     "data": {
      "text/html": [
       "TRUE"
      ],
      "text/latex": [
       "TRUE"
      ],
      "text/markdown": [
       "TRUE"
      ],
      "text/plain": [
       "[1] TRUE"
      ]
     },
     "metadata": {},
     "output_type": "display_data"
    },
    {
     "data": {
      "text/html": [
       "TRUE"
      ],
      "text/latex": [
       "TRUE"
      ],
      "text/markdown": [
       "TRUE"
      ],
      "text/plain": [
       "[1] TRUE"
      ]
     },
     "metadata": {},
     "output_type": "display_data"
    }
   ],
   "source": [
    "b <- as.character(a)\n",
    "b\n",
    "is.numeric(b)\n",
    "is.vector(b)\n",
    "is.character(b)"
   ]
  },
  {
   "cell_type": "markdown",
   "metadata": {},
   "source": [
    "### is.datatype() will be a strong tool together with \"if\""
   ]
  },
  {
   "cell_type": "markdown",
   "metadata": {},
   "source": [
    "# 4.3 Data sorting"
   ]
  },
  {
   "cell_type": "code",
   "execution_count": 41,
   "metadata": {
    "scrolled": true
   },
   "outputs": [
    {
     "data": {
      "text/html": [
       "<table>\n",
       "<thead><tr><th></th><th scope=col>manager</th><th scope=col>date</th><th scope=col>country</th><th scope=col>gender</th><th scope=col>age</th><th scope=col>q1</th><th scope=col>q2</th><th scope=col>q3</th><th scope=col>q4</th><th scope=col>q5</th></tr></thead>\n",
       "<tbody>\n",
       "\t<tr><th scope=row>3</th><td>3       </td><td>10/1/08 </td><td>UK      </td><td>F       </td><td>25      </td><td>3       </td><td>5       </td><td>5       </td><td> 5      </td><td> 2      </td></tr>\n",
       "\t<tr><th scope=row>1</th><td>1       </td><td>10/24/08</td><td>US      </td><td>M       </td><td>32      </td><td>5       </td><td>4       </td><td>5       </td><td> 5      </td><td> 5      </td></tr>\n",
       "\t<tr><th scope=row>4</th><td>4       </td><td>10/12/08</td><td>UK      </td><td>M       </td><td>39      </td><td>3       </td><td>3       </td><td>4       </td><td>NA      </td><td>NA      </td></tr>\n",
       "\t<tr><th scope=row>2</th><td>2       </td><td>10/28/08</td><td>US      </td><td>F       </td><td>45      </td><td>3       </td><td>5       </td><td>2       </td><td> 5      </td><td> 5      </td></tr>\n",
       "\t<tr><th scope=row>5</th><td>5       </td><td>5/1/09  </td><td>UK      </td><td>F       </td><td>99      </td><td>2       </td><td>2       </td><td>1       </td><td> 2      </td><td> 1      </td></tr>\n",
       "</tbody>\n",
       "</table>\n"
      ],
      "text/latex": [
       "\\begin{tabular}{r|llllllllll}\n",
       "  & manager & date & country & gender & age & q1 & q2 & q3 & q4 & q5\\\\\n",
       "\\hline\n",
       "\t3 & 3        & 10/1/08  & UK       & F        & 25       & 3        & 5        & 5        &  5       &  2      \\\\\n",
       "\t1 & 1        & 10/24/08 & US       & M        & 32       & 5        & 4        & 5        &  5       &  5      \\\\\n",
       "\t4 & 4        & 10/12/08 & UK       & M        & 39       & 3        & 3        & 4        & NA       & NA      \\\\\n",
       "\t2 & 2        & 10/28/08 & US       & F        & 45       & 3        & 5        & 2        &  5       &  5      \\\\\n",
       "\t5 & 5        & 5/1/09   & UK       & F        & 99       & 2        & 2        & 1        &  2       &  1      \\\\\n",
       "\\end{tabular}\n"
      ],
      "text/markdown": [
       "\n",
       "| <!--/--> | manager | date | country | gender | age | q1 | q2 | q3 | q4 | q5 | \n",
       "|---|---|---|---|---|\n",
       "| 3 | 3        | 10/1/08  | UK       | F        | 25       | 3        | 5        | 5        |  5       |  2       | \n",
       "| 1 | 1        | 10/24/08 | US       | M        | 32       | 5        | 4        | 5        |  5       |  5       | \n",
       "| 4 | 4        | 10/12/08 | UK       | M        | 39       | 3        | 3        | 4        | NA       | NA       | \n",
       "| 2 | 2        | 10/28/08 | US       | F        | 45       | 3        | 5        | 2        |  5       |  5       | \n",
       "| 5 | 5        | 5/1/09   | UK       | F        | 99       | 2        | 2        | 1        |  2       |  1       | \n",
       "\n",
       "\n"
      ],
      "text/plain": [
       "  manager date     country gender age q1 q2 q3 q4 q5\n",
       "3 3       10/1/08  UK      F      25  3  5  5   5  2\n",
       "1 1       10/24/08 US      M      32  5  4  5   5  5\n",
       "4 4       10/12/08 UK      M      39  3  3  4  NA NA\n",
       "2 2       10/28/08 US      F      45  3  5  2   5  5\n",
       "5 5       5/1/09   UK      F      99  2  2  1   2  1"
      ]
     },
     "metadata": {},
     "output_type": "display_data"
    }
   ],
   "source": [
    "# with function ordeR()\n",
    "newdata <- leadership[order(leadership$age),]\n",
    "newdata # pay attention to the comma after order()"
   ]
  },
  {
   "cell_type": "code",
   "execution_count": 42,
   "metadata": {},
   "outputs": [
    {
     "data": {
      "text/html": [
       "<table>\n",
       "<thead><tr><th></th><th scope=col>manager</th><th scope=col>date</th><th scope=col>country</th><th scope=col>gender</th><th scope=col>age</th><th scope=col>q1</th><th scope=col>q2</th><th scope=col>q3</th><th scope=col>q4</th><th scope=col>q5</th></tr></thead>\n",
       "<tbody>\n",
       "\t<tr><th scope=row>3</th><td>3       </td><td>10/1/08 </td><td>UK      </td><td>F       </td><td>25      </td><td>3       </td><td>5       </td><td>5       </td><td> 5      </td><td> 2      </td></tr>\n",
       "\t<tr><th scope=row>2</th><td>2       </td><td>10/28/08</td><td>US      </td><td>F       </td><td>45      </td><td>3       </td><td>5       </td><td>2       </td><td> 5      </td><td> 5      </td></tr>\n",
       "\t<tr><th scope=row>5</th><td>5       </td><td>5/1/09  </td><td>UK      </td><td>F       </td><td>99      </td><td>2       </td><td>2       </td><td>1       </td><td> 2      </td><td> 1      </td></tr>\n",
       "\t<tr><th scope=row>1</th><td>1       </td><td>10/24/08</td><td>US      </td><td>M       </td><td>32      </td><td>5       </td><td>4       </td><td>5       </td><td> 5      </td><td> 5      </td></tr>\n",
       "\t<tr><th scope=row>4</th><td>4       </td><td>10/12/08</td><td>UK      </td><td>M       </td><td>39      </td><td>3       </td><td>3       </td><td>4       </td><td>NA      </td><td>NA      </td></tr>\n",
       "</tbody>\n",
       "</table>\n"
      ],
      "text/latex": [
       "\\begin{tabular}{r|llllllllll}\n",
       "  & manager & date & country & gender & age & q1 & q2 & q3 & q4 & q5\\\\\n",
       "\\hline\n",
       "\t3 & 3        & 10/1/08  & UK       & F        & 25       & 3        & 5        & 5        &  5       &  2      \\\\\n",
       "\t2 & 2        & 10/28/08 & US       & F        & 45       & 3        & 5        & 2        &  5       &  5      \\\\\n",
       "\t5 & 5        & 5/1/09   & UK       & F        & 99       & 2        & 2        & 1        &  2       &  1      \\\\\n",
       "\t1 & 1        & 10/24/08 & US       & M        & 32       & 5        & 4        & 5        &  5       &  5      \\\\\n",
       "\t4 & 4        & 10/12/08 & UK       & M        & 39       & 3        & 3        & 4        & NA       & NA      \\\\\n",
       "\\end{tabular}\n"
      ],
      "text/markdown": [
       "\n",
       "| <!--/--> | manager | date | country | gender | age | q1 | q2 | q3 | q4 | q5 | \n",
       "|---|---|---|---|---|\n",
       "| 3 | 3        | 10/1/08  | UK       | F        | 25       | 3        | 5        | 5        |  5       |  2       | \n",
       "| 2 | 2        | 10/28/08 | US       | F        | 45       | 3        | 5        | 2        |  5       |  5       | \n",
       "| 5 | 5        | 5/1/09   | UK       | F        | 99       | 2        | 2        | 1        |  2       |  1       | \n",
       "| 1 | 1        | 10/24/08 | US       | M        | 32       | 5        | 4        | 5        |  5       |  5       | \n",
       "| 4 | 4        | 10/12/08 | UK       | M        | 39       | 3        | 3        | 4        | NA       | NA       | \n",
       "\n",
       "\n"
      ],
      "text/plain": [
       "  manager date     country gender age q1 q2 q3 q4 q5\n",
       "3 3       10/1/08  UK      F      25  3  5  5   5  2\n",
       "2 2       10/28/08 US      F      45  3  5  2   5  5\n",
       "5 5       5/1/09   UK      F      99  2  2  1   2  1\n",
       "1 1       10/24/08 US      M      32  5  4  5   5  5\n",
       "4 4       10/12/08 UK      M      39  3  3  4  NA NA"
      ]
     },
     "metadata": {},
     "output_type": "display_data"
    }
   ],
   "source": [
    "with(leadership, {\n",
    "    newdata <<- leadership[order(gender, age),]\n",
    "})\n",
    "newdata"
   ]
  },
  {
   "cell_type": "code",
   "execution_count": 43,
   "metadata": {},
   "outputs": [
    {
     "data": {
      "text/html": [
       "<table>\n",
       "<thead><tr><th></th><th scope=col>manager</th><th scope=col>date</th><th scope=col>country</th><th scope=col>gender</th><th scope=col>age</th><th scope=col>q1</th><th scope=col>q2</th><th scope=col>q3</th><th scope=col>q4</th><th scope=col>q5</th></tr></thead>\n",
       "<tbody>\n",
       "\t<tr><th scope=row>5</th><td>5       </td><td>5/1/09  </td><td>UK      </td><td>F       </td><td>99      </td><td>2       </td><td>2       </td><td>1       </td><td> 2      </td><td> 1      </td></tr>\n",
       "\t<tr><th scope=row>2</th><td>2       </td><td>10/28/08</td><td>US      </td><td>F       </td><td>45      </td><td>3       </td><td>5       </td><td>2       </td><td> 5      </td><td> 5      </td></tr>\n",
       "\t<tr><th scope=row>3</th><td>3       </td><td>10/1/08 </td><td>UK      </td><td>F       </td><td>25      </td><td>3       </td><td>5       </td><td>5       </td><td> 5      </td><td> 2      </td></tr>\n",
       "\t<tr><th scope=row>4</th><td>4       </td><td>10/12/08</td><td>UK      </td><td>M       </td><td>39      </td><td>3       </td><td>3       </td><td>4       </td><td>NA      </td><td>NA      </td></tr>\n",
       "\t<tr><th scope=row>1</th><td>1       </td><td>10/24/08</td><td>US      </td><td>M       </td><td>32      </td><td>5       </td><td>4       </td><td>5       </td><td> 5      </td><td> 5      </td></tr>\n",
       "</tbody>\n",
       "</table>\n"
      ],
      "text/latex": [
       "\\begin{tabular}{r|llllllllll}\n",
       "  & manager & date & country & gender & age & q1 & q2 & q3 & q4 & q5\\\\\n",
       "\\hline\n",
       "\t5 & 5        & 5/1/09   & UK       & F        & 99       & 2        & 2        & 1        &  2       &  1      \\\\\n",
       "\t2 & 2        & 10/28/08 & US       & F        & 45       & 3        & 5        & 2        &  5       &  5      \\\\\n",
       "\t3 & 3        & 10/1/08  & UK       & F        & 25       & 3        & 5        & 5        &  5       &  2      \\\\\n",
       "\t4 & 4        & 10/12/08 & UK       & M        & 39       & 3        & 3        & 4        & NA       & NA      \\\\\n",
       "\t1 & 1        & 10/24/08 & US       & M        & 32       & 5        & 4        & 5        &  5       &  5      \\\\\n",
       "\\end{tabular}\n"
      ],
      "text/markdown": [
       "\n",
       "| <!--/--> | manager | date | country | gender | age | q1 | q2 | q3 | q4 | q5 | \n",
       "|---|---|---|---|---|\n",
       "| 5 | 5        | 5/1/09   | UK       | F        | 99       | 2        | 2        | 1        |  2       |  1       | \n",
       "| 2 | 2        | 10/28/08 | US       | F        | 45       | 3        | 5        | 2        |  5       |  5       | \n",
       "| 3 | 3        | 10/1/08  | UK       | F        | 25       | 3        | 5        | 5        |  5       |  2       | \n",
       "| 4 | 4        | 10/12/08 | UK       | M        | 39       | 3        | 3        | 4        | NA       | NA       | \n",
       "| 1 | 1        | 10/24/08 | US       | M        | 32       | 5        | 4        | 5        |  5       |  5       | \n",
       "\n",
       "\n"
      ],
      "text/plain": [
       "  manager date     country gender age q1 q2 q3 q4 q5\n",
       "5 5       5/1/09   UK      F      99  2  2  1   2  1\n",
       "2 2       10/28/08 US      F      45  3  5  2   5  5\n",
       "3 3       10/1/08  UK      F      25  3  5  5   5  2\n",
       "4 4       10/12/08 UK      M      39  3  3  4  NA NA\n",
       "1 1       10/24/08 US      M      32  5  4  5   5  5"
      ]
     },
     "metadata": {},
     "output_type": "display_data"
    }
   ],
   "source": [
    "with(leadership, {\n",
    "    newdata <<- leadership[order(gender, -age),]\n",
    "})\n",
    "newdata"
   ]
  },
  {
   "cell_type": "markdown",
   "metadata": {},
   "source": [
    "# 4.4 Merge Data"
   ]
  },
  {
   "cell_type": "markdown",
   "metadata": {},
   "source": [
    "## 4.4.1 Add cols"
   ]
  },
  {
   "cell_type": "code",
   "execution_count": 45,
   "metadata": {
    "collapsed": true
   },
   "outputs": [],
   "source": [
    "# with function merge()\n",
    "# total <- merge(dataframeA, dataframeB, by='ID')\n",
    "\n",
    "# if you just want to merge two in one\n",
    "# total <- cbind(dataframeA, dataframeB)\n",
    "# please check that the two dataframes \n",
    "#     have the same number of rows\n",
    "#     and the same sort of every variables"
   ]
  },
  {
   "cell_type": "markdown",
   "metadata": {},
   "source": [
    "## 4.4.2 Add rows"
   ]
  },
  {
   "cell_type": "code",
   "execution_count": 46,
   "metadata": {
    "collapsed": true
   },
   "outputs": [],
   "source": [
    "# familiar with above\n",
    "# total <- rbind(dataframeA, dataframeB)\n",
    "# please check that the two dataframes \n",
    "#     have the same number of variables\n",
    "# if there are some variables in B which are not included in A\n",
    "#     delete those variables in B or add NA to A\n",
    "#     before you bind them together"
   ]
  },
  {
   "cell_type": "markdown",
   "metadata": {},
   "source": [
    "# 4.5 Get sub-sets"
   ]
  },
  {
   "cell_type": "markdown",
   "metadata": {},
   "source": [
    "## 4.5.1 Maintain some variables"
   ]
  },
  {
   "cell_type": "code",
   "execution_count": 54,
   "metadata": {
    "collapsed": true
   },
   "outputs": [
    {
     "data": {
      "text/html": [
       "<table>\n",
       "<thead><tr><th scope=col>q1</th><th scope=col>q2</th><th scope=col>q3</th><th scope=col>q4</th><th scope=col>q5</th></tr></thead>\n",
       "<tbody>\n",
       "\t<tr><td>5 </td><td>4 </td><td>5 </td><td> 5</td><td> 5</td></tr>\n",
       "\t<tr><td>3 </td><td>5 </td><td>2 </td><td> 5</td><td> 5</td></tr>\n",
       "\t<tr><td>3 </td><td>5 </td><td>5 </td><td> 5</td><td> 2</td></tr>\n",
       "\t<tr><td>3 </td><td>3 </td><td>4 </td><td>NA</td><td>NA</td></tr>\n",
       "\t<tr><td>2 </td><td>2 </td><td>1 </td><td> 2</td><td> 1</td></tr>\n",
       "</tbody>\n",
       "</table>\n"
      ],
      "text/latex": [
       "\\begin{tabular}{r|lllll}\n",
       " q1 & q2 & q3 & q4 & q5\\\\\n",
       "\\hline\n",
       "\t 5  & 4  & 5  &  5 &  5\\\\\n",
       "\t 3  & 5  & 2  &  5 &  5\\\\\n",
       "\t 3  & 5  & 5  &  5 &  2\\\\\n",
       "\t 3  & 3  & 4  & NA & NA\\\\\n",
       "\t 2  & 2  & 1  &  2 &  1\\\\\n",
       "\\end{tabular}\n"
      ],
      "text/markdown": [
       "\n",
       "q1 | q2 | q3 | q4 | q5 | \n",
       "|---|---|---|---|---|\n",
       "| 5  | 4  | 5  |  5 |  5 | \n",
       "| 3  | 5  | 2  |  5 |  5 | \n",
       "| 3  | 5  | 5  |  5 |  2 | \n",
       "| 3  | 3  | 4  | NA | NA | \n",
       "| 2  | 2  | 1  |  2 |  1 | \n",
       "\n",
       "\n"
      ],
      "text/plain": [
       "  q1 q2 q3 q4 q5\n",
       "1 5  4  5   5  5\n",
       "2 3  5  2   5  5\n",
       "3 3  5  5   5  2\n",
       "4 3  3  4  NA NA\n",
       "5 2  2  1   2  1"
      ]
     },
     "metadata": {},
     "output_type": "display_data"
    },
    {
     "data": {
      "text/html": [
       "<table>\n",
       "<thead><tr><th scope=col>q1</th><th scope=col>q2</th><th scope=col>q3</th><th scope=col>q4</th><th scope=col>q5</th></tr></thead>\n",
       "<tbody>\n",
       "\t<tr><td>5 </td><td>4 </td><td>5 </td><td> 5</td><td> 5</td></tr>\n",
       "\t<tr><td>3 </td><td>5 </td><td>2 </td><td> 5</td><td> 5</td></tr>\n",
       "\t<tr><td>3 </td><td>5 </td><td>5 </td><td> 5</td><td> 2</td></tr>\n",
       "\t<tr><td>3 </td><td>3 </td><td>4 </td><td>NA</td><td>NA</td></tr>\n",
       "\t<tr><td>2 </td><td>2 </td><td>1 </td><td> 2</td><td> 1</td></tr>\n",
       "</tbody>\n",
       "</table>\n"
      ],
      "text/latex": [
       "\\begin{tabular}{r|lllll}\n",
       " q1 & q2 & q3 & q4 & q5\\\\\n",
       "\\hline\n",
       "\t 5  & 4  & 5  &  5 &  5\\\\\n",
       "\t 3  & 5  & 2  &  5 &  5\\\\\n",
       "\t 3  & 5  & 5  &  5 &  2\\\\\n",
       "\t 3  & 3  & 4  & NA & NA\\\\\n",
       "\t 2  & 2  & 1  &  2 &  1\\\\\n",
       "\\end{tabular}\n"
      ],
      "text/markdown": [
       "\n",
       "q1 | q2 | q3 | q4 | q5 | \n",
       "|---|---|---|---|---|\n",
       "| 5  | 4  | 5  |  5 |  5 | \n",
       "| 3  | 5  | 2  |  5 |  5 | \n",
       "| 3  | 5  | 5  |  5 |  2 | \n",
       "| 3  | 3  | 4  | NA | NA | \n",
       "| 2  | 2  | 1  |  2 |  1 | \n",
       "\n",
       "\n"
      ],
      "text/plain": [
       "  q1 q2 q3 q4 q5\n",
       "1 5  4  5   5  5\n",
       "2 3  5  2   5  5\n",
       "3 3  5  5   5  2\n",
       "4 3  3  4  NA NA\n",
       "5 2  2  1   2  1"
      ]
     },
     "metadata": {},
     "output_type": "display_data"
    },
    {
     "data": {
      "text/html": [
       "<table>\n",
       "<thead><tr><th scope=col>manager</th><th scope=col>date</th><th scope=col>country</th><th scope=col>gender</th><th scope=col>age</th><th scope=col>q1</th><th scope=col>q2</th><th scope=col>q3</th><th scope=col>q4</th><th scope=col>q5</th></tr></thead>\n",
       "<tbody>\n",
       "\t<tr><td>1       </td><td>10/24/08</td><td>US      </td><td>M       </td><td>32      </td><td>5       </td><td>4       </td><td>5       </td><td> 5      </td><td> 5      </td></tr>\n",
       "\t<tr><td>2       </td><td>10/28/08</td><td>US      </td><td>F       </td><td>45      </td><td>3       </td><td>5       </td><td>2       </td><td> 5      </td><td> 5      </td></tr>\n",
       "\t<tr><td>3       </td><td>10/1/08 </td><td>UK      </td><td>F       </td><td>25      </td><td>3       </td><td>5       </td><td>5       </td><td> 5      </td><td> 2      </td></tr>\n",
       "\t<tr><td>4       </td><td>10/12/08</td><td>UK      </td><td>M       </td><td>39      </td><td>3       </td><td>3       </td><td>4       </td><td>NA      </td><td>NA      </td></tr>\n",
       "\t<tr><td>5       </td><td>5/1/09  </td><td>UK      </td><td>F       </td><td>99      </td><td>2       </td><td>2       </td><td>1       </td><td> 2      </td><td> 0      </td></tr>\n",
       "</tbody>\n",
       "</table>\n"
      ],
      "text/latex": [
       "\\begin{tabular}{r|llllllllll}\n",
       " manager & date & country & gender & age & q1 & q2 & q3 & q4 & q5\\\\\n",
       "\\hline\n",
       "\t 1        & 10/24/08 & US       & M        & 32       & 5        & 4        & 5        &  5       &  5      \\\\\n",
       "\t 2        & 10/28/08 & US       & F        & 45       & 3        & 5        & 2        &  5       &  5      \\\\\n",
       "\t 3        & 10/1/08  & UK       & F        & 25       & 3        & 5        & 5        &  5       &  2      \\\\\n",
       "\t 4        & 10/12/08 & UK       & M        & 39       & 3        & 3        & 4        & NA       & NA      \\\\\n",
       "\t 5        & 5/1/09   & UK       & F        & 99       & 2        & 2        & 1        &  2       &  0      \\\\\n",
       "\\end{tabular}\n"
      ],
      "text/markdown": [
       "\n",
       "manager | date | country | gender | age | q1 | q2 | q3 | q4 | q5 | \n",
       "|---|---|---|---|---|\n",
       "| 1        | 10/24/08 | US       | M        | 32       | 5        | 4        | 5        |  5       |  5       | \n",
       "| 2        | 10/28/08 | US       | F        | 45       | 3        | 5        | 2        |  5       |  5       | \n",
       "| 3        | 10/1/08  | UK       | F        | 25       | 3        | 5        | 5        |  5       |  2       | \n",
       "| 4        | 10/12/08 | UK       | M        | 39       | 3        | 3        | 4        | NA       | NA       | \n",
       "| 5        | 5/1/09   | UK       | F        | 99       | 2        | 2        | 1        |  2       |  0       | \n",
       "\n",
       "\n"
      ],
      "text/plain": [
       "  manager date     country gender age q1 q2 q3 q4 q5\n",
       "1 1       10/24/08 US      M      32  5  4  5   5  5\n",
       "2 2       10/28/08 US      F      45  3  5  2   5  5\n",
       "3 3       10/1/08  UK      F      25  3  5  5   5  2\n",
       "4 4       10/12/08 UK      M      39  3  3  4  NA NA\n",
       "5 5       5/1/09   UK      F      99  2  2  1   2  0"
      ]
     },
     "metadata": {},
     "output_type": "display_data"
    }
   ],
   "source": [
    "newdata <- leadership[, c(6:10)]   # a deep copy\n",
    "newdata\n",
    "leadership[5, 10] <- 0\n",
    "newdata\n",
    "leadership\n",
    "leadership[5, 10] <- 1"
   ]
  },
  {
   "cell_type": "code",
   "execution_count": 55,
   "metadata": {},
   "outputs": [
    {
     "data": {
      "text/html": [
       "<table>\n",
       "<thead><tr><th scope=col>q1</th><th scope=col>q2</th><th scope=col>q3</th><th scope=col>q4</th><th scope=col>q5</th></tr></thead>\n",
       "<tbody>\n",
       "\t<tr><td>5 </td><td>4 </td><td>5 </td><td> 5</td><td> 5</td></tr>\n",
       "\t<tr><td>3 </td><td>5 </td><td>2 </td><td> 5</td><td> 5</td></tr>\n",
       "\t<tr><td>3 </td><td>5 </td><td>5 </td><td> 5</td><td> 2</td></tr>\n",
       "\t<tr><td>3 </td><td>3 </td><td>4 </td><td>NA</td><td>NA</td></tr>\n",
       "\t<tr><td>2 </td><td>2 </td><td>1 </td><td> 2</td><td> 1</td></tr>\n",
       "</tbody>\n",
       "</table>\n"
      ],
      "text/latex": [
       "\\begin{tabular}{r|lllll}\n",
       " q1 & q2 & q3 & q4 & q5\\\\\n",
       "\\hline\n",
       "\t 5  & 4  & 5  &  5 &  5\\\\\n",
       "\t 3  & 5  & 2  &  5 &  5\\\\\n",
       "\t 3  & 5  & 5  &  5 &  2\\\\\n",
       "\t 3  & 3  & 4  & NA & NA\\\\\n",
       "\t 2  & 2  & 1  &  2 &  1\\\\\n",
       "\\end{tabular}\n"
      ],
      "text/markdown": [
       "\n",
       "q1 | q2 | q3 | q4 | q5 | \n",
       "|---|---|---|---|---|\n",
       "| 5  | 4  | 5  |  5 |  5 | \n",
       "| 3  | 5  | 2  |  5 |  5 | \n",
       "| 3  | 5  | 5  |  5 |  2 | \n",
       "| 3  | 3  | 4  | NA | NA | \n",
       "| 2  | 2  | 1  |  2 |  1 | \n",
       "\n",
       "\n"
      ],
      "text/plain": [
       "  q1 q2 q3 q4 q5\n",
       "1 5  4  5   5  5\n",
       "2 3  5  2   5  5\n",
       "3 3  5  5   5  2\n",
       "4 3  3  4  NA NA\n",
       "5 2  2  1   2  1"
      ]
     },
     "metadata": {},
     "output_type": "display_data"
    }
   ],
   "source": [
    "myvars <- c('q1','q2','q3','q4','q5')\n",
    "newdata <- leadership[myvars]\n",
    "newdata"
   ]
  },
  {
   "cell_type": "markdown",
   "metadata": {},
   "source": [
    "## 4.5.2 Discard some variables"
   ]
  },
  {
   "cell_type": "code",
   "execution_count": 56,
   "metadata": {},
   "outputs": [
    {
     "data": {
      "text/html": [
       "<table>\n",
       "<thead><tr><th scope=col>manager</th><th scope=col>date</th><th scope=col>country</th><th scope=col>gender</th><th scope=col>age</th><th scope=col>q1</th><th scope=col>q2</th><th scope=col>q5</th></tr></thead>\n",
       "<tbody>\n",
       "\t<tr><td>1       </td><td>10/24/08</td><td>US      </td><td>M       </td><td>32      </td><td>5       </td><td>4       </td><td> 5      </td></tr>\n",
       "\t<tr><td>2       </td><td>10/28/08</td><td>US      </td><td>F       </td><td>45      </td><td>3       </td><td>5       </td><td> 5      </td></tr>\n",
       "\t<tr><td>3       </td><td>10/1/08 </td><td>UK      </td><td>F       </td><td>25      </td><td>3       </td><td>5       </td><td> 2      </td></tr>\n",
       "\t<tr><td>4       </td><td>10/12/08</td><td>UK      </td><td>M       </td><td>39      </td><td>3       </td><td>3       </td><td>NA      </td></tr>\n",
       "\t<tr><td>5       </td><td>5/1/09  </td><td>UK      </td><td>F       </td><td>99      </td><td>2       </td><td>2       </td><td> 1      </td></tr>\n",
       "</tbody>\n",
       "</table>\n"
      ],
      "text/latex": [
       "\\begin{tabular}{r|llllllll}\n",
       " manager & date & country & gender & age & q1 & q2 & q5\\\\\n",
       "\\hline\n",
       "\t 1        & 10/24/08 & US       & M        & 32       & 5        & 4        &  5      \\\\\n",
       "\t 2        & 10/28/08 & US       & F        & 45       & 3        & 5        &  5      \\\\\n",
       "\t 3        & 10/1/08  & UK       & F        & 25       & 3        & 5        &  2      \\\\\n",
       "\t 4        & 10/12/08 & UK       & M        & 39       & 3        & 3        & NA      \\\\\n",
       "\t 5        & 5/1/09   & UK       & F        & 99       & 2        & 2        &  1      \\\\\n",
       "\\end{tabular}\n"
      ],
      "text/markdown": [
       "\n",
       "manager | date | country | gender | age | q1 | q2 | q5 | \n",
       "|---|---|---|---|---|\n",
       "| 1        | 10/24/08 | US       | M        | 32       | 5        | 4        |  5       | \n",
       "| 2        | 10/28/08 | US       | F        | 45       | 3        | 5        |  5       | \n",
       "| 3        | 10/1/08  | UK       | F        | 25       | 3        | 5        |  2       | \n",
       "| 4        | 10/12/08 | UK       | M        | 39       | 3        | 3        | NA       | \n",
       "| 5        | 5/1/09   | UK       | F        | 99       | 2        | 2        |  1       | \n",
       "\n",
       "\n"
      ],
      "text/plain": [
       "  manager date     country gender age q1 q2 q5\n",
       "1 1       10/24/08 US      M      32  5  4   5\n",
       "2 2       10/28/08 US      F      45  3  5   5\n",
       "3 3       10/1/08  UK      F      25  3  5   2\n",
       "4 4       10/12/08 UK      M      39  3  3  NA\n",
       "5 5       5/1/09   UK      F      99  2  2   1"
      ]
     },
     "metadata": {},
     "output_type": "display_data"
    }
   ],
   "source": [
    "# for example\n",
    "myvars <- names(leadership) %in% c('q3','q4')\n",
    "newdata <- leadership[!myvars]\n",
    "newdata"
   ]
  },
  {
   "cell_type": "code",
   "execution_count": 57,
   "metadata": {
    "scrolled": true
   },
   "outputs": [
    {
     "data": {
      "text/html": [
       "<table>\n",
       "<thead><tr><th scope=col>manager</th><th scope=col>date</th><th scope=col>country</th><th scope=col>gender</th><th scope=col>age</th><th scope=col>q1</th><th scope=col>q2</th><th scope=col>q5</th></tr></thead>\n",
       "<tbody>\n",
       "\t<tr><td>1       </td><td>10/24/08</td><td>US      </td><td>M       </td><td>32      </td><td>5       </td><td>4       </td><td> 5      </td></tr>\n",
       "\t<tr><td>2       </td><td>10/28/08</td><td>US      </td><td>F       </td><td>45      </td><td>3       </td><td>5       </td><td> 5      </td></tr>\n",
       "\t<tr><td>3       </td><td>10/1/08 </td><td>UK      </td><td>F       </td><td>25      </td><td>3       </td><td>5       </td><td> 2      </td></tr>\n",
       "\t<tr><td>4       </td><td>10/12/08</td><td>UK      </td><td>M       </td><td>39      </td><td>3       </td><td>3       </td><td>NA      </td></tr>\n",
       "\t<tr><td>5       </td><td>5/1/09  </td><td>UK      </td><td>F       </td><td>99      </td><td>2       </td><td>2       </td><td> 1      </td></tr>\n",
       "</tbody>\n",
       "</table>\n"
      ],
      "text/latex": [
       "\\begin{tabular}{r|llllllll}\n",
       " manager & date & country & gender & age & q1 & q2 & q5\\\\\n",
       "\\hline\n",
       "\t 1        & 10/24/08 & US       & M        & 32       & 5        & 4        &  5      \\\\\n",
       "\t 2        & 10/28/08 & US       & F        & 45       & 3        & 5        &  5      \\\\\n",
       "\t 3        & 10/1/08  & UK       & F        & 25       & 3        & 5        &  2      \\\\\n",
       "\t 4        & 10/12/08 & UK       & M        & 39       & 3        & 3        & NA      \\\\\n",
       "\t 5        & 5/1/09   & UK       & F        & 99       & 2        & 2        &  1      \\\\\n",
       "\\end{tabular}\n"
      ],
      "text/markdown": [
       "\n",
       "manager | date | country | gender | age | q1 | q2 | q5 | \n",
       "|---|---|---|---|---|\n",
       "| 1        | 10/24/08 | US       | M        | 32       | 5        | 4        |  5       | \n",
       "| 2        | 10/28/08 | US       | F        | 45       | 3        | 5        |  5       | \n",
       "| 3        | 10/1/08  | UK       | F        | 25       | 3        | 5        |  2       | \n",
       "| 4        | 10/12/08 | UK       | M        | 39       | 3        | 3        | NA       | \n",
       "| 5        | 5/1/09   | UK       | F        | 99       | 2        | 2        |  1       | \n",
       "\n",
       "\n"
      ],
      "text/plain": [
       "  manager date     country gender age q1 q2 q5\n",
       "1 1       10/24/08 US      M      32  5  4   5\n",
       "2 2       10/28/08 US      F      45  3  5   5\n",
       "3 3       10/1/08  UK      F      25  3  5   2\n",
       "4 4       10/12/08 UK      M      39  3  3  NA\n",
       "5 5       5/1/09   UK      F      99  2  2   1"
      ]
     },
     "metadata": {},
     "output_type": "display_data"
    }
   ],
   "source": [
    "# or you can run this\n",
    "newdata2 <- leadership[c(-8, -9)]\n",
    "newdata2"
   ]
  },
  {
   "cell_type": "code",
   "execution_count": 58,
   "metadata": {
    "collapsed": true
   },
   "outputs": [],
   "source": [
    "# or you can run this\n",
    "# leadership$q3 <- leadership$q4 <- NULL\n",
    "# however, this will change the leadership dataframe"
   ]
  },
  {
   "cell_type": "markdown",
   "metadata": {},
   "source": [
    "## 4.5.3 Data selecting"
   ]
  },
  {
   "cell_type": "code",
   "execution_count": 2,
   "metadata": {},
   "outputs": [
    {
     "data": {
      "text/html": [
       "<table>\n",
       "<thead><tr><th scope=col>manager</th><th scope=col>date</th><th scope=col>country</th><th scope=col>gender</th><th scope=col>age</th><th scope=col>q1</th><th scope=col>q2</th><th scope=col>q3</th><th scope=col>q4</th><th scope=col>q5</th></tr></thead>\n",
       "<tbody>\n",
       "\t<tr><td>1       </td><td>10/24/08</td><td>US      </td><td>M       </td><td>32      </td><td>5       </td><td>4       </td><td>5       </td><td>5       </td><td>5       </td></tr>\n",
       "\t<tr><td>2       </td><td>10/28/08</td><td>US      </td><td>F       </td><td>45      </td><td>3       </td><td>5       </td><td>2       </td><td>5       </td><td>5       </td></tr>\n",
       "\t<tr><td>3       </td><td>10/1/08 </td><td>UK      </td><td>F       </td><td>25      </td><td>3       </td><td>5       </td><td>5       </td><td>5       </td><td>2       </td></tr>\n",
       "</tbody>\n",
       "</table>\n"
      ],
      "text/latex": [
       "\\begin{tabular}{r|llllllllll}\n",
       " manager & date & country & gender & age & q1 & q2 & q3 & q4 & q5\\\\\n",
       "\\hline\n",
       "\t 1        & 10/24/08 & US       & M        & 32       & 5        & 4        & 5        & 5        & 5       \\\\\n",
       "\t 2        & 10/28/08 & US       & F        & 45       & 3        & 5        & 2        & 5        & 5       \\\\\n",
       "\t 3        & 10/1/08  & UK       & F        & 25       & 3        & 5        & 5        & 5        & 2       \\\\\n",
       "\\end{tabular}\n"
      ],
      "text/markdown": [
       "\n",
       "manager | date | country | gender | age | q1 | q2 | q3 | q4 | q5 | \n",
       "|---|---|---|\n",
       "| 1        | 10/24/08 | US       | M        | 32       | 5        | 4        | 5        | 5        | 5        | \n",
       "| 2        | 10/28/08 | US       | F        | 45       | 3        | 5        | 2        | 5        | 5        | \n",
       "| 3        | 10/1/08  | UK       | F        | 25       | 3        | 5        | 5        | 5        | 2        | \n",
       "\n",
       "\n"
      ],
      "text/plain": [
       "  manager date     country gender age q1 q2 q3 q4 q5\n",
       "1 1       10/24/08 US      M      32  5  4  5  5  5 \n",
       "2 2       10/28/08 US      F      45  3  5  2  5  5 \n",
       "3 3       10/1/08  UK      F      25  3  5  5  5  2 "
      ]
     },
     "metadata": {},
     "output_type": "display_data"
    },
    {
     "data": {
      "text/html": [
       "<table>\n",
       "<thead><tr><th></th><th scope=col>manager</th><th scope=col>date</th><th scope=col>country</th><th scope=col>gender</th><th scope=col>age</th><th scope=col>q1</th><th scope=col>q2</th><th scope=col>q3</th><th scope=col>q4</th><th scope=col>q5</th></tr></thead>\n",
       "<tbody>\n",
       "\t<tr><th scope=row>1</th><td>1       </td><td>10/24/08</td><td>US      </td><td>M       </td><td>32      </td><td>5       </td><td>4       </td><td>5       </td><td> 5      </td><td> 5      </td></tr>\n",
       "\t<tr><th scope=row>4</th><td>4       </td><td>10/12/08</td><td>UK      </td><td>M       </td><td>39      </td><td>3       </td><td>3       </td><td>4       </td><td>NA      </td><td>NA      </td></tr>\n",
       "</tbody>\n",
       "</table>\n"
      ],
      "text/latex": [
       "\\begin{tabular}{r|llllllllll}\n",
       "  & manager & date & country & gender & age & q1 & q2 & q3 & q4 & q5\\\\\n",
       "\\hline\n",
       "\t1 & 1        & 10/24/08 & US       & M        & 32       & 5        & 4        & 5        &  5       &  5      \\\\\n",
       "\t4 & 4        & 10/12/08 & UK       & M        & 39       & 3        & 3        & 4        & NA       & NA      \\\\\n",
       "\\end{tabular}\n"
      ],
      "text/markdown": [
       "\n",
       "| <!--/--> | manager | date | country | gender | age | q1 | q2 | q3 | q4 | q5 | \n",
       "|---|---|\n",
       "| 1 | 1        | 10/24/08 | US       | M        | 32       | 5        | 4        | 5        |  5       |  5       | \n",
       "| 4 | 4        | 10/12/08 | UK       | M        | 39       | 3        | 3        | 4        | NA       | NA       | \n",
       "\n",
       "\n"
      ],
      "text/plain": [
       "  manager date     country gender age q1 q2 q3 q4 q5\n",
       "1 1       10/24/08 US      M      32  5  4  5   5  5\n",
       "4 4       10/12/08 UK      M      39  3  3  4  NA NA"
      ]
     },
     "metadata": {},
     "output_type": "display_data"
    }
   ],
   "source": [
    "newdata <- leadership[1:3,]\n",
    "newdata\n",
    "newdata <- leadership[which(leadership$gender=='M' &\n",
    "                           leadership$age > 30),]\n",
    "newdata"
   ]
  },
  {
   "cell_type": "markdown",
   "metadata": {},
   "source": [
    "### function which() turns logical vector into indexes"
   ]
  },
  {
   "cell_type": "code",
   "execution_count": 6,
   "metadata": {},
   "outputs": [
    {
     "data": {
      "text/html": [
       "<table>\n",
       "<thead><tr><th></th><th scope=col>manager</th><th scope=col>date</th><th scope=col>country</th><th scope=col>gender</th><th scope=col>age</th><th scope=col>q1</th><th scope=col>q2</th><th scope=col>q3</th><th scope=col>q4</th><th scope=col>q5</th></tr></thead>\n",
       "<tbody>\n",
       "\t<tr><th scope=row>5</th><td>5         </td><td>2009-05-01</td><td>UK        </td><td>F         </td><td>99        </td><td>2         </td><td>2         </td><td>1         </td><td>2         </td><td>1         </td></tr>\n",
       "</tbody>\n",
       "</table>\n"
      ],
      "text/latex": [
       "\\begin{tabular}{r|llllllllll}\n",
       "  & manager & date & country & gender & age & q1 & q2 & q3 & q4 & q5\\\\\n",
       "\\hline\n",
       "\t5 & 5          & 2009-05-01 & UK         & F          & 99         & 2          & 2          & 1          & 2          & 1         \\\\\n",
       "\\end{tabular}\n"
      ],
      "text/markdown": [
       "\n",
       "| <!--/--> | manager | date | country | gender | age | q1 | q2 | q3 | q4 | q5 | \n",
       "|---|\n",
       "| 5 | 5          | 2009-05-01 | UK         | F          | 99         | 2          | 2          | 1          | 2          | 1          | \n",
       "\n",
       "\n"
      ],
      "text/plain": [
       "  manager date       country gender age q1 q2 q3 q4 q5\n",
       "5 5       2009-05-01 UK      F      99  2  2  1  2  1 "
      ]
     },
     "metadata": {},
     "output_type": "display_data"
    }
   ],
   "source": [
    "leadership$date <- as.Date(leadership$date, '%m/%d/%y')\n",
    "startdate <- as.Date('2009-01-01')\n",
    "enddate <- as.Date('2009-10-31')\n",
    "newdata <- leadership[which(leadership$date >= startdate &\n",
    "                           leadership$date <= enddate),]\n",
    "newdata"
   ]
  },
  {
   "cell_type": "markdown",
   "metadata": {},
   "source": [
    "### function subset()"
   ]
  },
  {
   "cell_type": "code",
   "execution_count": 8,
   "metadata": {},
   "outputs": [
    {
     "data": {
      "text/html": [
       "<table>\n",
       "<thead><tr><th></th><th scope=col>q1</th><th scope=col>q2</th><th scope=col>q3</th><th scope=col>q4</th></tr></thead>\n",
       "<tbody>\n",
       "\t<tr><th scope=row>2</th><td>3 </td><td>5 </td><td>2 </td><td> 5</td></tr>\n",
       "\t<tr><th scope=row>4</th><td>3 </td><td>3 </td><td>4 </td><td>NA</td></tr>\n",
       "\t<tr><th scope=row>5</th><td>2 </td><td>2 </td><td>1 </td><td> 2</td></tr>\n",
       "</tbody>\n",
       "</table>\n"
      ],
      "text/latex": [
       "\\begin{tabular}{r|llll}\n",
       "  & q1 & q2 & q3 & q4\\\\\n",
       "\\hline\n",
       "\t2 & 3  & 5  & 2  &  5\\\\\n",
       "\t4 & 3  & 3  & 4  & NA\\\\\n",
       "\t5 & 2  & 2  & 1  &  2\\\\\n",
       "\\end{tabular}\n"
      ],
      "text/markdown": [
       "\n",
       "| <!--/--> | q1 | q2 | q3 | q4 | \n",
       "|---|---|---|\n",
       "| 2 | 3  | 5  | 2  |  5 | \n",
       "| 4 | 3  | 3  | 4  | NA | \n",
       "| 5 | 2  | 2  | 1  |  2 | \n",
       "\n",
       "\n"
      ],
      "text/plain": [
       "  q1 q2 q3 q4\n",
       "2 3  5  2   5\n",
       "4 3  3  4  NA\n",
       "5 2  2  1   2"
      ]
     },
     "metadata": {},
     "output_type": "display_data"
    },
    {
     "data": {
      "text/html": [
       "<table>\n",
       "<thead><tr><th></th><th scope=col>gender</th><th scope=col>age</th><th scope=col>q1</th><th scope=col>q2</th><th scope=col>q3</th><th scope=col>q4</th></tr></thead>\n",
       "<tbody>\n",
       "\t<tr><th scope=row>1</th><td>M </td><td>32</td><td>5 </td><td>4 </td><td>5 </td><td> 5</td></tr>\n",
       "\t<tr><th scope=row>4</th><td>M </td><td>39</td><td>3 </td><td>3 </td><td>4 </td><td>NA</td></tr>\n",
       "</tbody>\n",
       "</table>\n"
      ],
      "text/latex": [
       "\\begin{tabular}{r|llllll}\n",
       "  & gender & age & q1 & q2 & q3 & q4\\\\\n",
       "\\hline\n",
       "\t1 & M  & 32 & 5  & 4  & 5  &  5\\\\\n",
       "\t4 & M  & 39 & 3  & 3  & 4  & NA\\\\\n",
       "\\end{tabular}\n"
      ],
      "text/markdown": [
       "\n",
       "| <!--/--> | gender | age | q1 | q2 | q3 | q4 | \n",
       "|---|---|\n",
       "| 1 | M  | 32 | 5  | 4  | 5  |  5 | \n",
       "| 4 | M  | 39 | 3  | 3  | 4  | NA | \n",
       "\n",
       "\n"
      ],
      "text/plain": [
       "  gender age q1 q2 q3 q4\n",
       "1 M      32  5  4  5   5\n",
       "4 M      39  3  3  4  NA"
      ]
     },
     "metadata": {},
     "output_type": "display_data"
    }
   ],
   "source": [
    "newdata <- subset(leadership, age >= 35 | age < 24,\n",
    "                 select=c(q1,q2,q3,q4))\n",
    "newdata\n",
    "newdata <- subset(leadership, gender == 'M' & age > 25,\n",
    "                 select=gender:q4)\n",
    "newdata"
   ]
  },
  {
   "cell_type": "code",
   "execution_count": 10,
   "metadata": {
    "collapsed": true
   },
   "outputs": [],
   "source": [
    "# pay attention to parameter: select"
   ]
  },
  {
   "cell_type": "markdown",
   "metadata": {},
   "source": [
    "# 4.6 Sampling"
   ]
  },
  {
   "cell_type": "code",
   "execution_count": 12,
   "metadata": {
    "collapsed": true
   },
   "outputs": [],
   "source": [
    "# in datamining & machine learning, you will need a trainning\n",
    "# set & a testing set, so you should do some sampling"
   ]
  },
  {
   "cell_type": "code",
   "execution_count": 17,
   "metadata": {},
   "outputs": [
    {
     "data": {
      "text/html": [
       "<table>\n",
       "<thead><tr><th></th><th scope=col>manager</th><th scope=col>date</th><th scope=col>country</th><th scope=col>gender</th><th scope=col>age</th><th scope=col>q1</th><th scope=col>q2</th><th scope=col>q3</th><th scope=col>q4</th><th scope=col>q5</th></tr></thead>\n",
       "<tbody>\n",
       "\t<tr><th scope=row>3</th><td>3       </td><td>10/1/08 </td><td>UK      </td><td>F       </td><td>25      </td><td>3       </td><td>5       </td><td>5       </td><td> 5      </td><td> 2      </td></tr>\n",
       "\t<tr><th scope=row>4</th><td>4       </td><td>10/12/08</td><td>UK      </td><td>M       </td><td>39      </td><td>3       </td><td>3       </td><td>4       </td><td>NA      </td><td>NA      </td></tr>\n",
       "\t<tr><th scope=row>2</th><td>2       </td><td>10/28/08</td><td>US      </td><td>F       </td><td>45      </td><td>3       </td><td>5       </td><td>2       </td><td> 5      </td><td> 5      </td></tr>\n",
       "</tbody>\n",
       "</table>\n"
      ],
      "text/latex": [
       "\\begin{tabular}{r|llllllllll}\n",
       "  & manager & date & country & gender & age & q1 & q2 & q3 & q4 & q5\\\\\n",
       "\\hline\n",
       "\t3 & 3        & 10/1/08  & UK       & F        & 25       & 3        & 5        & 5        &  5       &  2      \\\\\n",
       "\t4 & 4        & 10/12/08 & UK       & M        & 39       & 3        & 3        & 4        & NA       & NA      \\\\\n",
       "\t2 & 2        & 10/28/08 & US       & F        & 45       & 3        & 5        & 2        &  5       &  5      \\\\\n",
       "\\end{tabular}\n"
      ],
      "text/markdown": [
       "\n",
       "| <!--/--> | manager | date | country | gender | age | q1 | q2 | q3 | q4 | q5 | \n",
       "|---|---|---|\n",
       "| 3 | 3        | 10/1/08  | UK       | F        | 25       | 3        | 5        | 5        |  5       |  2       | \n",
       "| 4 | 4        | 10/12/08 | UK       | M        | 39       | 3        | 3        | 4        | NA       | NA       | \n",
       "| 2 | 2        | 10/28/08 | US       | F        | 45       | 3        | 5        | 2        |  5       |  5       | \n",
       "\n",
       "\n"
      ],
      "text/plain": [
       "  manager date     country gender age q1 q2 q3 q4 q5\n",
       "3 3       10/1/08  UK      F      25  3  5  5   5  2\n",
       "4 4       10/12/08 UK      M      39  3  3  4  NA NA\n",
       "2 2       10/28/08 US      F      45  3  5  2   5  5"
      ]
     },
     "metadata": {},
     "output_type": "display_data"
    }
   ],
   "source": [
    "mysample <- leadership[sample(1:nrow(leadership), \n",
    "                              3, replace=F),]\n",
    "mysample"
   ]
  },
  {
   "cell_type": "code",
   "execution_count": 18,
   "metadata": {
    "collapsed": true
   },
   "outputs": [],
   "source": [
    "# there are three pars within sample(par1, par2, par3)\n",
    "# par1: the dataset to sample\n",
    "# par2: the number of samples\n",
    "# par3: T means take-and-back, F means take-no-back\n",
    "\n",
    "# more information about sampling,\n",
    "#             please refer to package sampling\n",
    "# more information about data analysis,\n",
    "#             please refer to package survey"
   ]
  },
  {
   "cell_type": "markdown",
   "metadata": {},
   "source": [
    "# 4.7 Create Dataframe with SQL"
   ]
  },
  {
   "cell_type": "code",
   "execution_count": 20,
   "metadata": {
    "collapsed": true
   },
   "outputs": [],
   "source": [
    "# remain to be learnt"
   ]
  },
  {
   "cell_type": "code",
   "execution_count": null,
   "metadata": {
    "collapsed": true
   },
   "outputs": [],
   "source": []
  }
 ],
 "metadata": {
  "kernelspec": {
   "display_name": "R",
   "language": "R",
   "name": "ir"
  },
  "language_info": {
   "codemirror_mode": "r",
   "file_extension": ".r",
   "mimetype": "text/x-r-source",
   "name": "R",
   "pygments_lexer": "r",
   "version": "3.4.1"
  }
 },
 "nbformat": 4,
 "nbformat_minor": 2
}
